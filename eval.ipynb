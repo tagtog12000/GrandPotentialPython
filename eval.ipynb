{
  "nbformat": 4,
  "nbformat_minor": 0,
  "metadata": {
    "colab": {
      "provenance": [],
      "authorship_tag": "ABX9TyMQ/IGS56TdouqLUQeQ1qW/",
      "include_colab_link": true
    },
    "kernelspec": {
      "name": "python3",
      "display_name": "Python 3"
    },
    "language_info": {
      "name": "python"
    }
  },
  "cells": [
    {
      "cell_type": "markdown",
      "metadata": {
        "id": "view-in-github",
        "colab_type": "text"
      },
      "source": [
        "<a href=\"https://colab.research.google.com/github/tagtog12000/GrandPotentialPython/blob/main/eval.ipynb\" target=\"_parent\"><img src=\"https://colab.research.google.com/assets/colab-badge.svg\" alt=\"Open In Colab\"/></a>"
      ]
    },
    {
      "cell_type": "code",
      "execution_count": null,
      "metadata": {
        "id": "xKNgUTJ2QmKW"
      },
      "outputs": [],
      "source": [
        "from google.colab import files\n",
        "import ast\n",
        "import subprocess\n",
        "import os\n",
        "\n",
        "REPO_NAME = \"GrandPotentialPython\"\n",
        "REPO_URL = f\"https://github.com/tagtog12000/GrandPotentialPython.git\"\n",
        "\n",
        "# Clone if needed\n",
        "if not os.path.exists(REPO_NAME):\n",
        "    subprocess.run([\"git\", \"clone\", REPO_URL])\n",
        "os.chdir(REPO_NAME)\n",
        "\n",
        "# Compile before running\n",
        "if not os.path.exists(\"code\"):\n",
        "    print(\"⚙️ Compiling GP.cpp ...\")\n",
        "    subprocess.run([\"g++\", \"GP.cpp\", \"-o\", \"code\"], check=True)\n",
        "\n",
        "# Run\n",
        "nMax = int(input(\"Enter nMax: \"))\n",
        "eps = int(input(\"Enter eps (-1 for fermions, 1 for bosons): \"))\n",
        "\n",
        "result = subprocess.run([\"./code\", str(nMax), str(eps)], capture_output=True, text=True)\n",
        "print(result.stdout)\n",
        "\n",
        "import loadCode\n",
        "\n",
        "\n",
        "\n",
        "#begin construction\n",
        "\n",
        "allData = []  # list to hold data for all n\n",
        "for n in range(2, nMax+1):\n",
        "    data_n = {}  # dictionary to hold data for this specific n\n",
        "\n",
        "    with open(f\"matCoefF-{n}.dat\") as f:\n",
        "        data_n[\"matCoefF\"] = ast.literal_eval(f.read())\n",
        "\n",
        "    with open(f\"matDenNigF-{n}.dat\") as f:\n",
        "        data_n[\"matDenNigF\"] = ast.literal_eval(f.read())\n",
        "\n",
        "    with open(f\"matNumSignF-{n}.dat\") as f:\n",
        "        data_n[\"matNumSignF\"] = ast.literal_eval(f.read())\n",
        "\n",
        "    with open(f\"graphs-{n}.dat\") as f:\n",
        "        data_n[\"graphs\"] = ast.literal_eval(f.read())\n",
        "\n",
        "    with open(f\"spanningTrees-{n}.dat\") as f:\n",
        "        data_n[\"spanningTrees\"] = ast.literal_eval(f.read())\n",
        "\n",
        "    with open(f\"symmetries-{n}.dat\") as f:\n",
        "        data_n[\"symmetries\"] = ast.literal_eval(f.read())\n",
        "\n",
        "    with open(f\"refDenominators-{n}.dat\") as f:\n",
        "        data_n[\"refDenominators\"] = ast.literal_eval(f.read())\n",
        "\n",
        "    with open(\"DivDifMB-\"+str(n)+\".dat\") as f:\n",
        "         data_n[\"DivDifMB\"] = ast.literal_eval(f.read())\n",
        "\n",
        "    dn = 2*n\n",
        "    ones = (1 << (dn))-1\n",
        "\n",
        "    loadCode.build_latex(data_n[\"matCoefF\"], data_n[\"matNumSignF\"], data_n[\"matDenNigF\"], data_n[\"graphs\"], data_n[\"symmetries\"], data_n[\"spanningTrees\"], data_n[\"refDenominators\"], ones, n)"
      ]
    }
  ]
}