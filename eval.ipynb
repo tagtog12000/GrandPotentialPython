{
  "nbformat": 4,
  "nbformat_minor": 0,
  "metadata": {
    "colab": {
      "provenance": [],
      "toc_visible": true,
      "authorship_tag": "ABX9TyMygE8jsu4kHsRgyS4y1inc",
      "include_colab_link": true
    },
    "kernelspec": {
      "name": "python3",
      "display_name": "Python 3"
    },
    "language_info": {
      "name": "python"
    }
  },
  "cells": [
    {
      "cell_type": "markdown",
      "metadata": {
        "id": "view-in-github",
        "colab_type": "text"
      },
      "source": [
        "<a href=\"https://colab.research.google.com/github/tagtog12000/GrandPotentialPython/blob/main/eval.ipynb\" target=\"_parent\"><img src=\"https://colab.research.google.com/assets/colab-badge.svg\" alt=\"Open In Colab\"/></a>"
      ]
    },
    {
      "cell_type": "code",
      "execution_count": 1,
      "metadata": {
        "id": "xKNgUTJ2QmKW",
        "colab": {
          "base_uri": "https://localhost:8080/",
          "height": 332
        },
        "outputId": "4155e056-44e7-4d92-a941-01a3be7d2e5d"
      },
      "outputs": [
        {
          "output_type": "stream",
          "name": "stdout",
          "text": [
            "🔽 Cloning repository: https://github.com/tagtog12000/GrandPotentialPython.git\n",
            "📦 Installing Python dependencies ...\n",
            "⚙️ Compiling GP.cpp ...\n",
            "Enter the maximum order nMax: 4\n",
            "Enter the particle statistics, eps (-1 for fermions and 1 for bosons): -1\n",
            "✅ Program output:\n",
            "\n"
          ]
        },
        {
          "output_type": "error",
          "ename": "NameError",
          "evalue": "name 'HTML' is not defined",
          "traceback": [
            "\u001b[0;31m---------------------------------------------------------------------------\u001b[0m",
            "\u001b[0;31mNameError\u001b[0m                                 Traceback (most recent call last)",
            "\u001b[0;32m/tmp/ipython-input-3035259372.py\u001b[0m in \u001b[0;36m<cell line: 0>\u001b[0;34m()\u001b[0m\n\u001b[1;32m     50\u001b[0m \u001b[0;34m\u001b[0m\u001b[0m\n\u001b[1;32m     51\u001b[0m \u001b[0;31m#begin construction\u001b[0m\u001b[0;34m\u001b[0m\u001b[0;34m\u001b[0m\u001b[0m\n\u001b[0;32m---> 52\u001b[0;31m display(HTML(\"\"\"\n\u001b[0m\u001b[1;32m     53\u001b[0m \u001b[0;34m<\u001b[0m\u001b[0mstyle\u001b[0m\u001b[0;34m>\u001b[0m\u001b[0;34m\u001b[0m\u001b[0;34m\u001b[0m\u001b[0m\n\u001b[1;32m     54\u001b[0m .output_area pre {\n",
            "\u001b[0;31mNameError\u001b[0m: name 'HTML' is not defined"
          ]
        }
      ],
      "source": [
        "from google.colab import files\n",
        "import ast\n",
        "import subprocess\n",
        "import os\n",
        "\n",
        "REPO_NAME = \"GrandPotentialPython\"\n",
        "REPO_URL = f\"https://github.com/tagtog12000/GrandPotentialPython.git\"\n",
        "\n",
        "# --- 1. Clone the GitHub repo ---\n",
        "if not os.path.exists(REPO_NAME):\n",
        "    print(f\"🔽 Cloning repository: {REPO_URL}\")\n",
        "    subprocess.run([\"git\", \"clone\", REPO_URL], check=True)\n",
        "else:\n",
        "    print(\"✅ Repository already cloned.\")\n",
        "\n",
        "# --- 2. Change directory into the repo ---\n",
        "os.chdir(REPO_NAME)\n",
        "\n",
        "# --- 3. Install dependencies if available ---\n",
        "if os.path.exists(\"requirements.txt\"):\n",
        "    print(\"📦 Installing Python dependencies ...\")\n",
        "    subprocess.run([\"pip\", \"install\", \"-r\", \"requirements.txt\"], check=True)\n",
        "else:\n",
        "    print(\"⚠️ No requirements.txt found — skipping dependency install.\")\n",
        "\n",
        "# --- 4. Compile the C++ file if not already compiled ---\n",
        "if not os.path.exists(\"code\"):\n",
        "    print(\"⚙️ Compiling GP.cpp ...\")\n",
        "    subprocess.run([\"g++\", \"GP.cpp\", \"-o\", \"code\"], check=True)\n",
        "else:\n",
        "    print(\"✅ 'code' executable already exists.\")\n",
        "\n",
        "# --- 5. Run Section ---\n",
        "nMax = int(input(\"Enter the maximum order nMax: \"))\n",
        "eps = int(input(\"Enter the particle statistics, eps (-1 for fermions and 1 for bosons): \"))\n",
        "\n",
        "try:\n",
        "    # Run the compiled executable with both arguments\n",
        "    result = subprocess.run(\n",
        "        [\"./code\", str(nMax), str(eps)],\n",
        "        capture_output=True, text=True, check=True\n",
        "    )\n",
        "    print(\"✅ Program output:\")\n",
        "    print(result.stdout)\n",
        "except subprocess.CalledProcessError as e:\n",
        "    print(\"❌ Error while running executable:\")\n",
        "    print(e.stderr)\n",
        "\n",
        "import loadCode\n",
        "\n",
        "allData = []  # list to hold data for all n\n",
        "for n in range(2, nMax+1):\n",
        "    data_n = {}  # dictionary to hold data for this specific n\n",
        "\n",
        "    with open(f\"matCoefF-{n}.dat\") as f:\n",
        "        data_n[\"matCoefF\"] = ast.literal_eval(f.read())\n",
        "\n",
        "    with open(f\"matDenNigF-{n}.dat\") as f:\n",
        "        data_n[\"matDenNigF\"] = ast.literal_eval(f.read())\n",
        "\n",
        "    with open(f\"matNumSignF-{n}.dat\") as f:\n",
        "        data_n[\"matNumSignF\"] = ast.literal_eval(f.read())\n",
        "\n",
        "    with open(f\"graphs-{n}.dat\") as f:\n",
        "        data_n[\"graphs\"] = ast.literal_eval(f.read())\n",
        "\n",
        "    with open(f\"spanningTrees-{n}.dat\") as f:\n",
        "        data_n[\"spanningTrees\"] = ast.literal_eval(f.read())\n",
        "\n",
        "    with open(f\"symmetries-{n}.dat\") as f:\n",
        "        data_n[\"symmetries\"] = ast.literal_eval(f.read())\n",
        "\n",
        "    with open(f\"refDenominators-{n}.dat\") as f:\n",
        "        data_n[\"refDenominators\"] = ast.literal_eval(f.read())\n",
        "\n",
        "    with open(\"DivDifMB-\"+str(n)+\".dat\") as f:\n",
        "         data_n[\"DivDifMB\"] = ast.literal_eval(f.read())\n",
        "\n",
        "    dn = 2*n\n",
        "    ones = (1 << (dn))-1\n",
        "\n",
        "    loadCode.build_latex(data_n[\"matCoefF\"], data_n[\"matNumSignF\"], data_n[\"matDenNigF\"], data_n[\"graphs\"], data_n[\"symmetries\"], data_n[\"spanningTrees\"], data_n[\"refDenominators\"], ones, n)"
      ]
    }
  ]
}