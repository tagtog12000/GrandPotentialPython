{
  "nbformat": 4,
  "nbformat_minor": 0,
  "metadata": {
    "colab": {
      "provenance": [],
      "authorship_tag": "ABX9TyODRyTEdlTzqnoY0R3zZF4w",
      "include_colab_link": true
    },
    "kernelspec": {
      "name": "python3",
      "display_name": "Python 3"
    },
    "language_info": {
      "name": "python"
    }
  },
  "cells": [
    {
      "cell_type": "markdown",
      "metadata": {
        "id": "view-in-github",
        "colab_type": "text"
      },
      "source": [
        "<a href=\"https://colab.research.google.com/github/tagtog12000/GrandPotentialPython/blob/main/eval.ipynb\" target=\"_parent\"><img src=\"https://colab.research.google.com/assets/colab-badge.svg\" alt=\"Open In Colab\"/></a>"
      ]
    },
    {
      "cell_type": "code",
      "execution_count": 20,
      "metadata": {
        "id": "xKNgUTJ2QmKW",
        "colab": {
          "base_uri": "https://localhost:8080/",
          "height": 495
        },
        "outputId": "9bad6d74-763b-4981-d39b-31fc9e81ca4c"
      },
      "outputs": [
        {
          "output_type": "stream",
          "name": "stdout",
          "text": [
            "🔽 Cloning repository: https://github.com/tagtog12000/GrandPotentialPython.git\n",
            "📦 Installing Python dependencies ...\n",
            "fatal: destination path 'GrandPotentialPython' already exists and is not an empty directory.\n",
            "/content/GrandPotentialPython/GrandPotentialPython/GrandPotentialPython/GrandPotentialPython/GrandPotentialPython/GrandPotentialPython\n",
            "Usage: ./main_exec nMax eps\n",
            "Enter the maximum order nMax: 4\n",
            "Enter the particle statistics, eps (-1 for fermions and 1 for bosons): -1\n",
            "✅ Program output:\n",
            "\n"
          ]
        },
        {
          "output_type": "error",
          "ename": "NameError",
          "evalue": "name 'math' is not defined",
          "traceback": [
            "\u001b[0;31m---------------------------------------------------------------------------\u001b[0m",
            "\u001b[0;31mNameError\u001b[0m                                 Traceback (most recent call last)",
            "\u001b[0;32m/tmp/ipython-input-2724135819.py\u001b[0m in \u001b[0;36m<cell line: 0>\u001b[0;34m()\u001b[0m\n\u001b[1;32m    203\u001b[0m     \u001b[0mones\u001b[0m \u001b[0;34m=\u001b[0m \u001b[0;34m(\u001b[0m\u001b[0;36m1\u001b[0m \u001b[0;34m<<\u001b[0m \u001b[0;34m(\u001b[0m\u001b[0mdn\u001b[0m\u001b[0;34m)\u001b[0m\u001b[0;34m)\u001b[0m\u001b[0;34m-\u001b[0m\u001b[0;36m1\u001b[0m\u001b[0;34m\u001b[0m\u001b[0;34m\u001b[0m\u001b[0m\n\u001b[1;32m    204\u001b[0m \u001b[0;34m\u001b[0m\u001b[0m\n\u001b[0;32m--> 205\u001b[0;31m     \u001b[0mbuild_latex\u001b[0m\u001b[0;34m(\u001b[0m\u001b[0mdata_n\u001b[0m\u001b[0;34m[\u001b[0m\u001b[0;34m\"matCoefF\"\u001b[0m\u001b[0;34m]\u001b[0m\u001b[0;34m,\u001b[0m \u001b[0mdata_n\u001b[0m\u001b[0;34m[\u001b[0m\u001b[0;34m\"matNumSignF\"\u001b[0m\u001b[0;34m]\u001b[0m\u001b[0;34m,\u001b[0m \u001b[0mdata_n\u001b[0m\u001b[0;34m[\u001b[0m\u001b[0;34m\"matDenNigF\"\u001b[0m\u001b[0;34m]\u001b[0m\u001b[0;34m,\u001b[0m \u001b[0mdata_n\u001b[0m\u001b[0;34m[\u001b[0m\u001b[0;34m\"graphs\"\u001b[0m\u001b[0;34m]\u001b[0m\u001b[0;34m,\u001b[0m \u001b[0mdata_n\u001b[0m\u001b[0;34m[\u001b[0m\u001b[0;34m\"symmetries\"\u001b[0m\u001b[0;34m]\u001b[0m\u001b[0;34m,\u001b[0m \u001b[0mdata_n\u001b[0m\u001b[0;34m[\u001b[0m\u001b[0;34m\"spanningTrees\"\u001b[0m\u001b[0;34m]\u001b[0m\u001b[0;34m,\u001b[0m \u001b[0mdata_n\u001b[0m\u001b[0;34m[\u001b[0m\u001b[0;34m\"refDenominators\"\u001b[0m\u001b[0;34m]\u001b[0m\u001b[0;34m,\u001b[0m \u001b[0mones\u001b[0m\u001b[0;34m,\u001b[0m \u001b[0mn\u001b[0m\u001b[0;34m)\u001b[0m\u001b[0;34m\u001b[0m\u001b[0;34m\u001b[0m\u001b[0m\n\u001b[0m",
            "\u001b[0;32m/tmp/ipython-input-2724135819.py\u001b[0m in \u001b[0;36mbuild_latex\u001b[0;34m(matCoefF, matNumSignF, matDenNigF, graphs, symmetries, refSpanningTrees, refDens, ones, n)\u001b[0m\n\u001b[1;32m    112\u001b[0m         \u001b[0mspTr\u001b[0m \u001b[0;34m=\u001b[0m \u001b[0mrefSpanningTrees\u001b[0m\u001b[0;34m[\u001b[0m\u001b[0mi\u001b[0m\u001b[0;34m]\u001b[0m\u001b[0;34m\u001b[0m\u001b[0;34m\u001b[0m\u001b[0m\n\u001b[1;32m    113\u001b[0m         \u001b[0medges\u001b[0m \u001b[0;34m=\u001b[0m \u001b[0mgraphs\u001b[0m\u001b[0;34m[\u001b[0m\u001b[0mi\u001b[0m\u001b[0;34m]\u001b[0m\u001b[0;34m\u001b[0m\u001b[0;34m\u001b[0m\u001b[0m\n\u001b[0;32m--> 114\u001b[0;31m         \u001b[0mloadCode\u001b[0m\u001b[0;34m.\u001b[0m\u001b[0mdraw_multidigraph\u001b[0m\u001b[0;34m(\u001b[0m\u001b[0medges\u001b[0m\u001b[0;34m)\u001b[0m\u001b[0;34m\u001b[0m\u001b[0;34m\u001b[0m\u001b[0m\n\u001b[0m\u001b[1;32m    115\u001b[0m         \u001b[0mpot\u001b[0m \u001b[0;34m=\u001b[0m \u001b[0;34m\"\"\u001b[0m\u001b[0;34m\u001b[0m\u001b[0;34m\u001b[0m\u001b[0m\n\u001b[1;32m    116\u001b[0m         \u001b[0;32mfor\u001b[0m \u001b[0mj\u001b[0m \u001b[0;32min\u001b[0m \u001b[0mrange\u001b[0m\u001b[0;34m(\u001b[0m\u001b[0mn\u001b[0m\u001b[0;34m)\u001b[0m\u001b[0;34m:\u001b[0m\u001b[0;34m\u001b[0m\u001b[0;34m\u001b[0m\u001b[0m\n",
            "\u001b[0;32m/content/GrandPotentialPython/loadCode.py\u001b[0m in \u001b[0;36mdraw_multidigraph\u001b[0;34m(G_edges, radius, figsize, node_color)\u001b[0m\n\u001b[1;32m     14\u001b[0m     \u001b[0mpos\u001b[0m \u001b[0;34m=\u001b[0m \u001b[0;34m{\u001b[0m\u001b[0;34m}\u001b[0m\u001b[0;34m\u001b[0m\u001b[0;34m\u001b[0m\u001b[0m\n\u001b[1;32m     15\u001b[0m     \u001b[0;32mfor\u001b[0m \u001b[0mi\u001b[0m\u001b[0;34m,\u001b[0m \u001b[0mnode\u001b[0m \u001b[0;32min\u001b[0m \u001b[0menumerate\u001b[0m\u001b[0;34m(\u001b[0m\u001b[0mnodes\u001b[0m\u001b[0;34m,\u001b[0m \u001b[0mstart\u001b[0m\u001b[0;34m=\u001b[0m\u001b[0;36m1\u001b[0m\u001b[0;34m)\u001b[0m\u001b[0;34m:\u001b[0m\u001b[0;34m\u001b[0m\u001b[0;34m\u001b[0m\u001b[0m\n\u001b[0;32m---> 16\u001b[0;31m         \u001b[0mangle\u001b[0m \u001b[0;34m=\u001b[0m \u001b[0;36m2\u001b[0m \u001b[0;34m*\u001b[0m \u001b[0mmath\u001b[0m\u001b[0;34m.\u001b[0m\u001b[0mpi\u001b[0m \u001b[0;34m*\u001b[0m \u001b[0;34m(\u001b[0m\u001b[0mi\u001b[0m\u001b[0;34m-\u001b[0m\u001b[0;36m1\u001b[0m\u001b[0;34m)\u001b[0m \u001b[0;34m/\u001b[0m \u001b[0mn\u001b[0m\u001b[0;34m\u001b[0m\u001b[0;34m\u001b[0m\u001b[0m\n\u001b[0m\u001b[1;32m     17\u001b[0m         \u001b[0mpos\u001b[0m\u001b[0;34m[\u001b[0m\u001b[0mnode\u001b[0m\u001b[0;34m]\u001b[0m \u001b[0;34m=\u001b[0m \u001b[0;34m(\u001b[0m\u001b[0mradius\u001b[0m \u001b[0;34m*\u001b[0m \u001b[0mmath\u001b[0m\u001b[0;34m.\u001b[0m\u001b[0mcos\u001b[0m\u001b[0;34m(\u001b[0m\u001b[0mangle\u001b[0m\u001b[0;34m)\u001b[0m\u001b[0;34m,\u001b[0m \u001b[0mradius\u001b[0m \u001b[0;34m*\u001b[0m \u001b[0mmath\u001b[0m\u001b[0;34m.\u001b[0m\u001b[0msin\u001b[0m\u001b[0;34m(\u001b[0m\u001b[0mangle\u001b[0m\u001b[0;34m)\u001b[0m\u001b[0;34m)\u001b[0m\u001b[0;34m\u001b[0m\u001b[0;34m\u001b[0m\u001b[0m\n\u001b[1;32m     18\u001b[0m \u001b[0;34m\u001b[0m\u001b[0m\n",
            "\u001b[0;31mNameError\u001b[0m: name 'math' is not defined"
          ]
        }
      ],
      "source": [
        "from google.colab import files\n",
        "from IPython.display import display, Latex, HTML\n",
        "import ast\n",
        "import math\n",
        "from collections import Counter\n",
        "import numpy as np\n",
        "import subprocess\n",
        "import os\n",
        "\n",
        "REPO_NAME = \"GrandPotentialPython\"\n",
        "REPO_URL = f\"https://github.com/tagtog12000/GrandPotentialPython.git\"\n",
        "# --- 2. Clone the GitHub repo ---\n",
        "if not os.path.exists(REPO_NAME):\n",
        "    print(f\"🔽 Cloning repository: {REPO_URL}\")\n",
        "    subprocess.run([\"git\", \"clone\", REPO_URL])\n",
        "else:\n",
        "    print(\"✅ Repository already cloned.\")\n",
        "# --- 3. Install requirements ---\n",
        "if os.path.exists(\"requirements.txt\"):\n",
        "    print(\"📦 Installing Python dependencies ...\")\n",
        "    subprocess.run([\"pip\", \"install\", \"-r\", \"requirements.txt\"], check=True)\n",
        "else:\n",
        "    print(\"⚠️ No requirements.txt found — skipping dependency install.\")\n",
        "\n",
        "# --- Run Section ---\n",
        "\n",
        "nMax = int(input(\"Enter the maximum order nMax: \"))\n",
        "\n",
        "\n",
        "eps = int(input(\"Enter the particle statistics, eps (-1 for fermions and 1 for bosons): \"))\n",
        "\n",
        "try:\n",
        "    # Run the compiled executable with both arguments\n",
        "    result = subprocess.run(\n",
        "        [\"./code\", str(nMax), str(eps)],\n",
        "        capture_output=True, text=True, check=True\n",
        "    )\n",
        "    print(\"✅ Program output:\")\n",
        "    print(result.stdout)\n",
        "except subprocess.CalledProcessError as e:\n",
        "    print(\"❌ Error while running executable:\")\n",
        "    print(e.stderr)\n",
        "\n",
        "import loadCode\n",
        "\n",
        "\n",
        "def toInt(intU: int):\n",
        "    lis = []\n",
        "    pos = 1\n",
        "    while intU:\n",
        "        if intU & 1:\n",
        "            lis.append(pos)\n",
        "        intU >>= 1\n",
        "        pos += 1\n",
        "    return lis;\n",
        "\n",
        "def bit_positions(n):\n",
        "    return [f\"p_{i+1}\" for i in range(n.bit_length()) if (n >> i) & 1]\n",
        "\n",
        "def writeUlli(intU: int, s1: str, sm: str, s2: str, s0, bol = 1):\n",
        "    tex=\"\"\n",
        "    pos = 1\n",
        "    pos0 = 1\n",
        "    while intU:\n",
        "        if intU & 1:\n",
        "            if pos0 == 1:\n",
        "                if bol == 0:\n",
        "                    tex+=s1+sm+str(pos)+s2\n",
        "                else:\n",
        "                    tex+=s0+s1+str(pos)+s2\n",
        "                pos0 += 1\n",
        "            else:\n",
        "                tex+=s0+s1+sm+str(pos)+s2\n",
        "        intU >>= 1\n",
        "        pos += 1\n",
        "    return tex;\n",
        "\n",
        "def remplaceVariable(refDens: list, var: str, spTr: int):\n",
        "    remP = {}   # dictionary for remplacing variables\n",
        "    for refDen in refDens:\n",
        "        posD = refDen[0] ^ refDen[1]\n",
        "        if posD & spTr:\n",
        "            br = posD & spTr\n",
        "            posSTr = br.bit_length()\n",
        "            posD = posD ^ br\n",
        "            tx1 = var + str(posSTr)\n",
        "            tx2 = writeUlli(posD, \"-\", var, \"\") + writeUlli(refDen[1], \"+\", var, \"\")\n",
        "            remP[tx1] = tx2\n",
        "        elif refDen[1] & spTr:\n",
        "            br = refDen[1] & spTr\n",
        "            posSTr = br.bit_length()\n",
        "            refDen[1] = refDen[1] ^ br\n",
        "            tx1 = var + str(posSTr)\n",
        "            tx2 = writeUlli(refDen[1], \"-\", var, \"\") + writeUlli(posD, \"+\", var, \"\")\n",
        "            remP[tx1] = tx2\n",
        "        else:\n",
        "            print(\"error\")\n",
        "    return remP\n",
        "\n",
        "def build_latex(matCoefF, matNumSignF, matDenNigF, graphs, symmetries, refSpanningTrees, refDens, ones, n):\n",
        "    for i in range(len(graphs)):\n",
        "        sym = symmetries[i]\n",
        "        spTr = refSpanningTrees[i]\n",
        "        edges = graphs[i]\n",
        "        loadCode.draw_multidigraph(edges)\n",
        "        pot = \"\"\n",
        "        for j in range(n):\n",
        "            pot += \"\\\\langle \"+str(2*j+1) + \",\" + str(2*j+2) + \" || \"  + str(2*edges[2*j+1][1] - 1)+ \",\"  + str(2*edges[2*j+1][1]) + \" \\\\rangle\"\n",
        "        if sym < 0:\n",
        "            sym = -sym\n",
        "            tsym = \"-\"\n",
        "        else:\n",
        "            tsym = \"\"\n",
        "        tsym =\"V_{\"+str(n)+\"}^{\"+str(i+1)+\"} = \"+tsym+\"\\\\frac{1}{\"+str(sym)+\"}\"+pot\n",
        "        #print(tsym)\n",
        "\n",
        "        fraction_latex = \"\\\\Omega_{\"+str(n)+\"}^{\"+str(i+1)+\"} = \"\n",
        "        matNS = matNumSignF[i]\n",
        "        cfi = matCoefF[i]\n",
        "        for ij in range(len(matNS)):\n",
        "            tex = \"\"\n",
        "            txtN = \"\"\n",
        "            for j in range(len(matNS[ij])):\n",
        "                coef = cfi[ij][j]\n",
        "                if coef == -1:\n",
        "                    txtN+=\"-\"\n",
        "                elif coef == 1:\n",
        "                    if j == 0:\n",
        "                        txtN+=\"\"\n",
        "                    else:\n",
        "                        txtN+=\"+\"\n",
        "                elif coef < -1:\n",
        "                    tex+=str(coef)\n",
        "                else:  # coef > 1\n",
        "                    txtN+=\"+\"+str(coef)\n",
        "                # n^- terms\n",
        "                txtN+=writeUlli(matNS[ij][j][1], \"f_{\", \"\", \"}\", \"\",0)\n",
        "\n",
        "                # n^+ terms\n",
        "                txtN+=writeUlli(matNS[ij][j][0] ^ matNS[ij][j][1], \"g_{\", \"\", \"}\", \"\",0)\n",
        "\n",
        "            # denominator\n",
        "            txtD = \"\"\n",
        "            for j in range(len(matDenNigF[i][ij])):\n",
        "                txtD+=\"(\"\n",
        "                # -E terms\n",
        "                txtD+=writeUlli(matDenNigF[i][ij][j][1], \"-\", \"E_{\", \"\", \"}\",0)\n",
        "                # +E terms\n",
        "                txtD+=writeUlli(matDenNigF[i][ij][j][0] ^ matDenNigF[i][ij][j][1], \"+\", \"E_{\", \"\", \"}\",0)\n",
        "                txtD+=\")\"\n",
        "            tex0 = \"\\\\frac{\"+txtN +\"}{\"+ txtD +\"}\"  # reset for each fraction numerator\n",
        "            if ij == 0:\n",
        "                tex += tex0\n",
        "            else:\n",
        "                tex += \"+\"+tex0\n",
        "\n",
        "            # join into string\n",
        "            fraction_latex += tex\n",
        "        display(Latex(tsym))\n",
        "        display(Latex(fraction_latex))\n",
        "        #display(fraction_latex)\n",
        "\n",
        "#begin construction\n",
        "\n",
        "allData = []  # list to hold data for all n\n",
        "for n in range(2, nMax+1):\n",
        "    data_n = {}  # dictionary to hold data for this specific n\n",
        "\n",
        "    with open(f\"matCoefF-{n}.dat\") as f:\n",
        "        data_n[\"matCoefF\"] = ast.literal_eval(f.read())\n",
        "\n",
        "    with open(f\"matDenNigF-{n}.dat\") as f:\n",
        "        data_n[\"matDenNigF\"] = ast.literal_eval(f.read())\n",
        "\n",
        "    with open(f\"matNumSignF-{n}.dat\") as f:\n",
        "        data_n[\"matNumSignF\"] = ast.literal_eval(f.read())\n",
        "\n",
        "    with open(f\"graphs-{n}.dat\") as f:\n",
        "        data_n[\"graphs\"] = ast.literal_eval(f.read())\n",
        "\n",
        "    with open(f\"spanningTrees-{n}.dat\") as f:\n",
        "        data_n[\"spanningTrees\"] = ast.literal_eval(f.read())\n",
        "\n",
        "    with open(f\"symmetries-{n}.dat\") as f:\n",
        "        data_n[\"symmetries\"] = ast.literal_eval(f.read())\n",
        "\n",
        "    with open(f\"refDenominators-{n}.dat\") as f:\n",
        "        data_n[\"refDenominators\"] = ast.literal_eval(f.read())\n",
        "\n",
        "    with open(\"DivDifMB-\"+str(n)+\".dat\") as f:\n",
        "         data_n[\"DivDifMB\"] = ast.literal_eval(f.read())\n",
        "\n",
        "    dn = 2*n\n",
        "    ones = (1 << (dn))-1\n",
        "\n",
        "    build_latex(data_n[\"matCoefF\"], data_n[\"matNumSignF\"], data_n[\"matDenNigF\"], data_n[\"graphs\"], data_n[\"symmetries\"], data_n[\"spanningTrees\"], data_n[\"refDenominators\"], ones, n)"
      ]
    },
    {
      "cell_type": "code",
      "source": [
        "!pwd\n",
        "!ls\n"
      ],
      "metadata": {
        "colab": {
          "base_uri": "https://localhost:8080/"
        },
        "id": "PREukRZ1_cd1",
        "outputId": "04ceb7b7-ce06-4c54-a8e2-2e688f5de70e"
      },
      "execution_count": null,
      "outputs": [
        {
          "output_type": "stream",
          "name": "stdout",
          "text": [
            "/content/GrandPotentialPython\n",
            "code\t\tloadCode.py\t   matNumSignF-4.dat\t  requirements.txt\n",
            "DivDifMB-2.dat\tmatCoefF-2.dat\t   N-2.dat\t\t  spanningTrees-2.dat\n",
            "DivDifMB-3.dat\tmatCoefF-3.dat\t   N-3.dat\t\t  spanningTrees-3.dat\n",
            "DivDifMB-4.dat\tmatCoefF-4.dat\t   N-4.dat\t\t  spanningTrees-4.dat\n",
            "eval.ipynb\tmatDenNigF-2.dat   __pycache__\t\t  symmetries-2.dat\n",
            "GP.cpp\t\tmatDenNigF-3.dat   README.md\t\t  symmetries-3.dat\n",
            "graphs-2.dat\tmatDenNigF-4.dat   refDenominators-2.dat  symmetries-4.dat\n",
            "graphs-3.dat\tmatNumSignF-2.dat  refDenominators-3.dat\n",
            "graphs-4.dat\tmatNumSignF-3.dat  refDenominators-4.dat\n"
          ]
        }
      ]
    },
    {
      "cell_type": "code",
      "source": [
        "loadCode"
      ],
      "metadata": {
        "id": "8MqVq5VgHx14",
        "outputId": "b5de8e58-6bc5-4a0a-f2a6-81b00fff3657",
        "colab": {
          "base_uri": "https://localhost:8080/"
        }
      },
      "execution_count": 22,
      "outputs": [
        {
          "output_type": "execute_result",
          "data": {
            "text/plain": [
              "<module 'loadCode' from '/content/GrandPotentialPython/loadCode.py'>"
            ]
          },
          "metadata": {},
          "execution_count": 22
        }
      ]
    }
  ]
}